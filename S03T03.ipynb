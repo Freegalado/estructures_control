{
 "cells": [
  {
   "cell_type": "markdown",
   "metadata": {},
   "source": [
    "<h1> S03 T03: Estructura de control</h1>"
   ]
  },
  {
   "cell_type": "code",
   "execution_count": null,
   "metadata": {},
   "outputs": [],
   "source": [
    "import numpy as np\n",
    "import random "
   ]
  },
  {
   "cell_type": "markdown",
   "metadata": {},
   "source": [
    "<h2> Nivel 1</h2>"
   ]
  },
  {
   "cell_type": "markdown",
   "metadata": {},
   "source": [
    "<h3> The exercise involves creating a function that classifies a numeric variable based on the Suspended / Passed / Notable / Excellent scale. </h3> "
   ]
  },
  {
   "cell_type": "code",
   "execution_count": null,
   "metadata": {},
   "outputs": [],
   "source": [
    "\"\"\"In this block of code using the method of creating a range of \n",
    "random numbers a list is created\"\"\"\n",
    "\n",
    "\n",
    "rng = np.random.default_rng()\n",
    "\n",
    "notas = rng.integers(low=1, high = 10, size=20)\n",
    "\n",
    "print(notas)"
   ]
  },
  {
   "cell_type": "code",
   "execution_count": null,
   "metadata": {},
   "outputs": [],
   "source": [
    "\"\"\"In this block of code the function clasificacion_grades(grades) is created with\n",
    "the pourpose of rank the grades by value. The grade rank is save in a list\"\"\"\n",
    "\n",
    "\n",
    "rank_grades = []\n",
    "\n",
    "def clasificacion_grades(grades):\n",
    "    for score in notas:\n",
    "        if score >= 9:\n",
    "            print('Exelente')\n",
    "            New_grade = 'Exelente'\n",
    "        elif score >= 7 and score <= 8:\n",
    "            print('Notable')\n",
    "            New_grade = 'Notable'\n",
    "        elif score >= 5 and score <= 6:\n",
    "            print('Aprobado')\n",
    "            New_grade = 'Aprobado'\n",
    "        else:\n",
    "            print('Suspenso')\n",
    "            New_grade = 'Suspenso'\n",
    "        rank_grades.append(New_grade) \n",
    "\n"
   ]
  },
  {
   "cell_type": "code",
   "execution_count": null,
   "metadata": {},
   "outputs": [],
   "source": [
    "clasificacion_grades(notas)"
   ]
  },
  {
   "cell_type": "markdown",
   "metadata": {},
   "source": [
    "<h3> Using the Programiz tutorial: Python Input, Output and Import create a program that asks you two numbers. It should show you a message saying if the first one is bigger, the second one is bigger or they are the same </h3> "
   ]
  },
  {
   "cell_type": "code",
   "execution_count": null,
   "metadata": {},
   "outputs": [],
   "source": [
    "\"\"\"In this block of code using the Programiz tutorial is asked a number by console\"\"\"\n",
    "\n",
    "number1 = input(\"Enter a number A (integer): \")\n",
    "number2 = input(\"Enter a number B (integer): \")"
   ]
  },
  {
   "cell_type": "code",
   "execution_count": null,
   "metadata": {},
   "outputs": [],
   "source": [
    "\"\"\"In this block of code a conditional is used to evaluate the number and the statement\n",
    "is printed in the console but the line code is writing with the .format() \"\"\"\n",
    "\n",
    "if number1 > number2:\n",
    "    print(\"The value of {} is greater than {}\".format(number1,number2))\n",
    "elif number1 < number2:\n",
    "    print(\"The value of {} is greater than {}\".format(number2,number1))\n",
    "else:\n",
    "    print(\"The value of {} is equal than {}\".format(number1,number2))"
   ]
  },
  {
   "cell_type": "markdown",
   "metadata": {},
   "source": [
    "<h3> Create a program that asks your name, and a number. If the number is 0, it should display an error message. Otherwise, it should display the repeated name as many times as the number indicates.</h3> "
   ]
  },
  {
   "cell_type": "code",
   "execution_count": null,
   "metadata": {},
   "outputs": [],
   "source": [
    "\"\"\"In this block of code a integer number is asked it must be a integer with value more \n",
    "than Zero, if the user enters Zero the program will display a error message and ends\"\"\"\n",
    "\n",
    "print(\"This program will ask your name and a integer number and multiply them\")\n",
    "\n",
    "number = int(input(\"Enter a number: \"))\n",
    "\n",
    "\n",
    "if number == 0:\n",
    "    print(\"Error: Invalid input your number must be more than 0\")\n",
    "else:\n",
    "   \n",
    "    f_name = input(\"Enter your name: \")\n",
    "    n = f_name * number\n",
    "    print(n)"
   ]
  },
  {
   "cell_type": "code",
   "execution_count": null,
   "metadata": {},
   "outputs": [],
   "source": [
    "\"\"\"In this block of code a integer number is asked it must be a integer with value more \n",
    "than Zero, if the user enters Zero the program will display a error message and ask again\n",
    "for the number\"\"\"\n",
    "\n",
    "print(\"This program will ask your name and a number\")\n",
    "\n",
    "number = int(input(\"Enter a number: \"))\n",
    "\n",
    "while number == 0:\n",
    "    print(\"The number must be more than 0\")\n",
    "    number = int(input(\"Enter a number: \"))\n",
    "f_name = input(\"Enter your name: \")\n",
    "n = f_name * number\n",
    "print(n)    \n",
    "    "
   ]
  },
  {
   "cell_type": "markdown",
   "metadata": {},
   "source": [
    "<h3> Create a program that given any list, tells you if it is symmetrical or not. If so, tells you how many items it has.</h3> "
   ]
  },
  {
   "cell_type": "code",
   "execution_count": null,
   "metadata": {},
   "outputs": [],
   "source": [
    "\"\"\"In this block of code a list will be created, the user will add as many items wants\n",
    "a question will popup when the item is added to continue or finalize the secuence of \n",
    "adding items\"\"\"\n",
    "\n",
    "print(\"Create a list so enter the items:\")\n",
    "\n",
    "list_input = []\n",
    "\n",
    "item = input(\"Enter a item: \")\n",
    "list_input.append(item) \n",
    "\n",
    "continue_or_not = input(\"Continue (y) or not (n): \")\n",
    "\n",
    "while continue_or_not.casefold() == \"y\" :\n",
    "    item = input(\"Enter a item: \")\n",
    "    list_input.append(item) \n",
    "    continue_or_not = input(\"Continue (y) or not (n): \")\n",
    "\n",
    "print(list_input)"
   ]
  },
  {
   "cell_type": "code",
   "execution_count": null,
   "metadata": {},
   "outputs": [],
   "source": [
    "\"\"\"In this block of code the items of the list will be transformed in lower case and reversed.\n",
    "A conditional is built to compare is the list is symmetrical or not\"\"\"\n",
    "\n",
    "lower_char = [x.lower() for x in list_input]\n",
    "\n",
    "reversed_list = list(reversed(lower_char))\n",
    "\n",
    "if lower_char == reversed_list and len(lower_char)>1 and len(reversed_list)>1 :\n",
    "    print(\"The list is symmetrical and has {} items: {}\".format(len(list_input),list_input))\n",
    "else:\n",
    "    print(\"The list is asymmetrical and has {} items: {}\".format(len(list_input),list_input))      \n",
    "    "
   ]
  },
  {
   "cell_type": "markdown",
   "metadata": {},
   "source": [
    "<h3> Create a program that given any list, tells you if it is symmetrical or not. If so, tells you how many items it has.</h3>  "
   ]
  },
  {
   "cell_type": "code",
   "execution_count": null,
   "metadata": {},
   "outputs": [],
   "source": [
    "\"\"\"In this block of code using the method of creating a range of \n",
    "random numbers a list is created\"\"\"\n",
    "\n",
    "random_list = [random.randint(0,10) for i in range(10)]\n",
    "print(random_list)"
   ]
  },
  {
   "cell_type": "code",
   "execution_count": null,
   "metadata": {},
   "outputs": [],
   "source": [
    "\"\"\"In this block of code the list created and the items are compared for \n",
    "repeated items, the index of the repeated item will be added to the list indexes\"\"\"\n",
    "\n",
    "repeated_indexes = []\n",
    "\n",
    "\n",
    "\n",
    "def repeat_indexes(list):\n",
    "    for index, x in enumerate(list):\n",
    "        for number in list:\n",
    "            if list[index] == number:\n",
    "                repeated_indexes.append(index)\n",
    "\n",
    "repeat_indexes(random_list)\n",
    "print(repeated_indexes)"
   ]
  },
  {
   "cell_type": "code",
   "execution_count": null,
   "metadata": {},
   "outputs": [],
   "source": [
    "\"\"\"In this block of code the collection library is imported, the repeated item \n",
    "and the item value will be extracted\"\"\"\n",
    "\n",
    "import collections\n",
    "\n",
    "clean_index=[item for item, count in collections.Counter(repeated_indexes).items() if count>1]\n",
    "\n",
    "clean_item=[item for item, count in collections.Counter(random_list).items() if count>1]\n",
    "print(clean_index)\n",
    "print(clean_item)\n",
    "    "
   ]
  },
  {
   "cell_type": "code",
   "execution_count": null,
   "metadata": {},
   "outputs": [],
   "source": [
    "print(\"The following list {} have item values {} that matches in the indexes {}\".format(random_list,clean_item,clean_index))"
   ]
  },
  {
   "cell_type": "code",
   "execution_count": null,
   "metadata": {},
   "outputs": [],
   "source": []
  }
 ],
 "metadata": {
  "kernelspec": {
   "display_name": "Python 3",
   "language": "python",
   "name": "python3"
  },
  "language_info": {
   "codemirror_mode": {
    "name": "ipython",
    "version": 3
   },
   "file_extension": ".py",
   "mimetype": "text/x-python",
   "name": "python",
   "nbconvert_exporter": "python",
   "pygments_lexer": "ipython3",
   "version": "3.8.3"
  },
  "toc": {
   "base_numbering": 1,
   "nav_menu": {},
   "number_sections": true,
   "sideBar": true,
   "skip_h1_title": true,
   "title_cell": "Table of Contents",
   "title_sidebar": "Contents",
   "toc_cell": false,
   "toc_position": {},
   "toc_section_display": true,
   "toc_window_display": true
  }
 },
 "nbformat": 4,
 "nbformat_minor": 4
}
